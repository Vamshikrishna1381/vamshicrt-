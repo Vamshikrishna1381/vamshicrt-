{
 "cells": [
  {
   "cell_type": "markdown",
   "metadata": {},
   "source": [
    "# 4/11/2019"
   ]
  },
  {
   "cell_type": "markdown",
   "metadata": {},
   "source": [
    "\n",
    "# loops:\n",
    "\n",
    "\n"
   ]
  },
  {
   "cell_type": "markdown",
   "metadata": {},
   "source": [
    "\n",
    "\n",
    "# while loops syntax :\n",
    "* *while condition*:\n",
    "  * *statements*\n"
   ]
  },
  {
   "cell_type": "code",
   "execution_count": 1,
   "metadata": {},
   "outputs": [
    {
     "name": "stdout",
     "output_type": "stream",
     "text": [
      " 15\n",
      "1\n",
      "2\n",
      "3\n",
      "4\n",
      "5\n",
      "6\n",
      "7\n",
      "8\n",
      "9\n",
      "10\n",
      "11\n",
      "12\n",
      "13\n",
      "14\n",
      "15\n"
     ]
    }
   ],
   "source": [
    "# print numbers from 1 to N\n",
    "## input : 10\n",
    "## output : 1 2 3 4 5 ....10\n",
    "n=int(input(\" \"))\n",
    "i=1\n",
    "while i<=n:\n",
    "    print(i)\n",
    "    i=i+1"
   ]
  },
  {
   "cell_type": "code",
   "execution_count": 15,
   "metadata": {},
   "outputs": [
    {
     "name": "stdout",
     "output_type": "stream",
     "text": [
      "6\n"
     ]
    }
   ],
   "source": [
    "# find the sum of digits of the given number\n",
    "# input : 123\n",
    "# output: 6(1+2+3)\n",
    "n = 123\n",
    "sum = 0\n",
    "while n!=0:\n",
    "    r = n%10\n",
    "    sum =sum+r\n",
    "    n = n//10\n",
    "print(sum)"
   ]
  },
  {
   "cell_type": "code",
   "execution_count": 19,
   "metadata": {},
   "outputs": [
    {
     "name": "stdout",
     "output_type": "stream",
     "text": [
      "11111111111111111111111112345678900\n",
      "0 0 9 8 7 6 5 4 3 2 1 1 1 1 1 1 1 1 1 1 1 1 1 1 1 1 1 1 1 1 1 1 1 1 1 "
     ]
    }
   ],
   "source": [
    "# read the number as the input \n",
    "# output the digits of the number in reverse order \n",
    "# input: 123\n",
    "# output: 3 2 1\n",
    "n = int (input(\"\"))\n",
    "while n!=0:\n",
    "    print(n%10,end =\" \")\n",
    "    n = n//10"
   ]
  },
  {
   "cell_type": "markdown",
   "metadata": {},
   "source": [
    "# for loop:\n",
    "\n",
    "## syntax :\n",
    " - for variable_name in iterable_obj:\n",
    "   - statments"
   ]
  },
  {
   "cell_type": "markdown",
   "metadata": {},
   "source": [
    "- for variable_name in range(start,stop,step):\n",
    "     - statments"
   ]
  },
  {
   "cell_type": "code",
   "execution_count": 20,
   "metadata": {},
   "outputs": [
    {
     "name": "stdout",
     "output_type": "stream",
     "text": [
      "0\n",
      "1\n",
      "2\n",
      "3\n",
      "4\n",
      "5\n",
      "6\n",
      "7\n",
      "8\n",
      "9\n"
     ]
    }
   ],
   "source": [
    "# print N numbers \n",
    "for i in range(0,10):\n",
    "    print(i)"
   ]
  },
  {
   "cell_type": "code",
   "execution_count": 33,
   "metadata": {},
   "outputs": [
    {
     "name": "stdout",
     "output_type": "stream",
     "text": [
      "1\n",
      "501\n",
      "1001\n"
     ]
    }
   ],
   "source": [
    "for i in range(1,1000+10,500):\n",
    "    print(i)"
   ]
  },
  {
   "cell_type": "code",
   "execution_count": 34,
   "metadata": {},
   "outputs": [
    {
     "name": "stdout",
     "output_type": "stream",
     "text": [
      "p\n",
      "y\n",
      "t\n",
      "h\n",
      "o\n",
      "n\n"
     ]
    }
   ],
   "source": [
    "for i in \"python\":\n",
    "    print(i)"
   ]
  },
  {
   "cell_type": "code",
   "execution_count": 36,
   "metadata": {},
   "outputs": [
    {
     "name": "stdout",
     "output_type": "stream",
     "text": [
      "G\n",
      "V\n",
      "K\n"
     ]
    }
   ],
   "source": [
    "for i in \"GVK\":\n",
    "    print(i)"
   ]
  },
  {
   "cell_type": "markdown",
   "metadata": {},
   "source": [
    "## when we know the exact number of iterations we use for loop\n",
    "## when we don't knpow the number of iterations,we use while loop\n",
    "\n",
    "\n",
    "\n",
    "...................................................................................................................................................................................."
   ]
  },
  {
   "cell_type": "markdown",
   "metadata": {},
   "source": [
    "# FUNCTIONS:\n",
    " - simple\n",
    " - easy to understand\n",
    " - better reasuability\n",
    " - lengthy program will be divided into sub programmes\n",
    " \n",
    "## Two types of functions:\n",
    " - built-in functions (already available)\n",
    " - user-defined functions (we have to write)"
   ]
  },
  {
   "cell_type": "markdown",
   "metadata": {},
   "source": [
    "## syntax:\n",
    "###  def functioion_name(parameters):\n",
    "  - statements\n",
    "  - return(it can return multiple values)"
   ]
  },
  {
   "cell_type": "code",
   "execution_count": 38,
   "metadata": {},
   "outputs": [
    {
     "name": "stdout",
     "output_type": "stream",
     "text": [
      "1000\n"
     ]
    }
   ],
   "source": [
    "# additions of two numbers\n",
    "def addition(a,b):\n",
    "    c=a+b\n",
    "    print(c)\n",
    "addition(1,999)"
   ]
  },
  {
   "cell_type": "code",
   "execution_count": 39,
   "metadata": {
    "collapsed": true
   },
   "outputs": [],
   "source": [
    "# read a number \n",
    "# print the even digit sum from th nunber\n",
    "# input :  1234\n",
    "# output : 6(2+4) "
   ]
  },
  {
   "cell_type": "markdown",
   "metadata": {},
   "source": [
    "# input :19535\n",
    "## output : 9 (print the largest digit from the number)"
   ]
  },
  {
   "cell_type": "code",
   "execution_count": 64,
   "metadata": {},
   "outputs": [
    {
     "data": {
      "text/plain": [
       "2"
      ]
     },
     "execution_count": 64,
     "metadata": {},
     "output_type": "execute_result"
    }
   ],
   "source": [
    "def smallDigit(n):\n",
    "    small = 9\n",
    "    while n!=0:\n",
    "        r = n%10\n",
    "        if small >r:\n",
    "            small = r \n",
    "        n = n//10\n",
    "    return small\n",
    "smallDigit(29535)"
   ]
  },
  {
   "cell_type": "code",
   "execution_count": null,
   "metadata": {
    "collapsed": true
   },
   "outputs": [],
   "source": [
    "# Read a number as input\n",
    "# output : pallindrome or not\n",
    "\n",
    "# 123=321(not a palindrome)\n",
    "# 121 ==121(is a palidrome)   "
   ]
  },
  {
   "cell_type": "code",
   "execution_count": null,
   "metadata": {
    "collapsed": true
   },
   "outputs": [],
   "source": [
    "def palindrome(n):\n",
    "    rev =0 \n",
    "    buffer = n\n",
    "    while n!"
   ]
  },
  {
   "cell_type": "code",
   "execution_count": null,
   "metadata": {
    "collapsed": true
   },
   "outputs": [],
   "source": []
  },
  {
   "cell_type": "code",
   "execution_count": null,
   "metadata": {
    "collapsed": true
   },
   "outputs": [],
   "source": []
  }
 ],
 "metadata": {
  "kernelspec": {
   "display_name": "Python 3",
   "language": "python",
   "name": "python3"
  },
  "language_info": {
   "codemirror_mode": {
    "name": "ipython",
    "version": 3
   },
   "file_extension": ".py",
   "mimetype": "text/x-python",
   "name": "python",
   "nbconvert_exporter": "python",
   "pygments_lexer": "ipython3",
   "version": "3.6.3"
  }
 },
 "nbformat": 4,
 "nbformat_minor": 2
}
